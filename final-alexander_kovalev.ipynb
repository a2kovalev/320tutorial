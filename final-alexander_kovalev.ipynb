{
 "cells": [
  {
   "cell_type": "markdown",
   "metadata": {},
   "source": [
    "# Film Genre Trends Over Time #\n",
    "## by Alexander Kovalev ##"
   ]
  },
  {
   "cell_type": "markdown",
   "metadata": {},
   "source": [
    "### Cinema through the ages ###\n",
    "Every decade since the advent of cinema has movies that we associate with it. From The Wizard of Oz and Gone with the Wind in the 30s, to the Clint Eastwood movies of the 60s, Star Wars and The Godfather in the 70s, Back to the Future in the 80s, and so on. Surely, the 2010s will be famous for the Avengers series, among other films. \n",
    "\n",
    "But even though we know the most popular movies from varioius decades, do we know the most popular film genres? Did all the most famous movies of each decade all come from one genre? Which genres could charecterise each decade? When did each genre peak? Can we predict what decade a movie was made in based on its genre? These are the types of questions that we will answer in this tutorial. Rather than just look at Top 10 lists, we can use the data science pipeline to find which genres REALLY characterised each decade, and maybe even predict what the next best common will be!"
   ]
  },
  {
   "cell_type": "markdown",
   "metadata": {},
   "source": [
    "### Imports ###\n",
    "This cell will contain all the necessary imports for this tutorial."
   ]
  },
  {
   "cell_type": "code",
   "execution_count": 148,
   "metadata": {},
   "outputs": [],
   "source": [
    "import numpy as np\n",
    "import pandas as pd\n",
    "import matplotlib.pyplot as plt\n",
    "import requests\n",
    "from bs4 import BeautifulSoup"
   ]
  },
  {
   "cell_type": "markdown",
   "metadata": {},
   "source": [
    "### Data Collection ###\n",
    "The first step of the process will be to find a dataset of movies. Here I will demonstrate two methods of collecting data. Kaggle provides a .csv file of the 5000 highest grossing films, which should be more than enough for our purposes. This data originally comes from TMDb (The Movie Database). This csv file has been downloaded from Kaggle and placed in the same directory as this tutorial. You can take any csv/tsv file and turn it into a dataframe! We will also use The Number's table of top grossing films per year, which we will scrape from their website."
   ]
  },
  {
   "cell_type": "code",
   "execution_count": 149,
   "metadata": {},
   "outputs": [
    {
     "data": {
      "text/html": [
       "<div>\n",
       "<style scoped>\n",
       "    .dataframe tbody tr th:only-of-type {\n",
       "        vertical-align: middle;\n",
       "    }\n",
       "\n",
       "    .dataframe tbody tr th {\n",
       "        vertical-align: top;\n",
       "    }\n",
       "\n",
       "    .dataframe thead th {\n",
       "        text-align: right;\n",
       "    }\n",
       "</style>\n",
       "<table border=\"1\" class=\"dataframe\">\n",
       "  <thead>\n",
       "    <tr style=\"text-align: right;\">\n",
       "      <th></th>\n",
       "      <th>budget</th>\n",
       "      <th>genres</th>\n",
       "      <th>homepage</th>\n",
       "      <th>id</th>\n",
       "      <th>keywords</th>\n",
       "      <th>original_language</th>\n",
       "      <th>original_title</th>\n",
       "      <th>overview</th>\n",
       "      <th>popularity</th>\n",
       "      <th>production_companies</th>\n",
       "      <th>production_countries</th>\n",
       "      <th>release_date</th>\n",
       "      <th>revenue</th>\n",
       "      <th>runtime</th>\n",
       "      <th>spoken_languages</th>\n",
       "      <th>status</th>\n",
       "      <th>tagline</th>\n",
       "      <th>title</th>\n",
       "      <th>vote_average</th>\n",
       "      <th>vote_count</th>\n",
       "    </tr>\n",
       "  </thead>\n",
       "  <tbody>\n",
       "    <tr>\n",
       "      <th>0</th>\n",
       "      <td>237000000</td>\n",
       "      <td>[{\"id\": 28, \"name\": \"Action\"}, {\"id\": 12, \"nam...</td>\n",
       "      <td>http://www.avatarmovie.com/</td>\n",
       "      <td>19995</td>\n",
       "      <td>[{\"id\": 1463, \"name\": \"culture clash\"}, {\"id\":...</td>\n",
       "      <td>en</td>\n",
       "      <td>Avatar</td>\n",
       "      <td>In the 22nd century, a paraplegic Marine is di...</td>\n",
       "      <td>150.437577</td>\n",
       "      <td>[{\"name\": \"Ingenious Film Partners\", \"id\": 289...</td>\n",
       "      <td>[{\"iso_3166_1\": \"US\", \"name\": \"United States o...</td>\n",
       "      <td>2009-12-10</td>\n",
       "      <td>2787965087</td>\n",
       "      <td>162.0</td>\n",
       "      <td>[{\"iso_639_1\": \"en\", \"name\": \"English\"}, {\"iso...</td>\n",
       "      <td>Released</td>\n",
       "      <td>Enter the World of Pandora.</td>\n",
       "      <td>Avatar</td>\n",
       "      <td>7.2</td>\n",
       "      <td>11800</td>\n",
       "    </tr>\n",
       "    <tr>\n",
       "      <th>1</th>\n",
       "      <td>300000000</td>\n",
       "      <td>[{\"id\": 12, \"name\": \"Adventure\"}, {\"id\": 14, \"...</td>\n",
       "      <td>http://disney.go.com/disneypictures/pirates/</td>\n",
       "      <td>285</td>\n",
       "      <td>[{\"id\": 270, \"name\": \"ocean\"}, {\"id\": 726, \"na...</td>\n",
       "      <td>en</td>\n",
       "      <td>Pirates of the Caribbean: At World's End</td>\n",
       "      <td>Captain Barbossa, long believed to be dead, ha...</td>\n",
       "      <td>139.082615</td>\n",
       "      <td>[{\"name\": \"Walt Disney Pictures\", \"id\": 2}, {\"...</td>\n",
       "      <td>[{\"iso_3166_1\": \"US\", \"name\": \"United States o...</td>\n",
       "      <td>2007-05-19</td>\n",
       "      <td>961000000</td>\n",
       "      <td>169.0</td>\n",
       "      <td>[{\"iso_639_1\": \"en\", \"name\": \"English\"}]</td>\n",
       "      <td>Released</td>\n",
       "      <td>At the end of the world, the adventure begins.</td>\n",
       "      <td>Pirates of the Caribbean: At World's End</td>\n",
       "      <td>6.9</td>\n",
       "      <td>4500</td>\n",
       "    </tr>\n",
       "    <tr>\n",
       "      <th>2</th>\n",
       "      <td>245000000</td>\n",
       "      <td>[{\"id\": 28, \"name\": \"Action\"}, {\"id\": 12, \"nam...</td>\n",
       "      <td>http://www.sonypictures.com/movies/spectre/</td>\n",
       "      <td>206647</td>\n",
       "      <td>[{\"id\": 470, \"name\": \"spy\"}, {\"id\": 818, \"name...</td>\n",
       "      <td>en</td>\n",
       "      <td>Spectre</td>\n",
       "      <td>A cryptic message from Bond’s past sends him o...</td>\n",
       "      <td>107.376788</td>\n",
       "      <td>[{\"name\": \"Columbia Pictures\", \"id\": 5}, {\"nam...</td>\n",
       "      <td>[{\"iso_3166_1\": \"GB\", \"name\": \"United Kingdom\"...</td>\n",
       "      <td>2015-10-26</td>\n",
       "      <td>880674609</td>\n",
       "      <td>148.0</td>\n",
       "      <td>[{\"iso_639_1\": \"fr\", \"name\": \"Fran\\u00e7ais\"},...</td>\n",
       "      <td>Released</td>\n",
       "      <td>A Plan No One Escapes</td>\n",
       "      <td>Spectre</td>\n",
       "      <td>6.3</td>\n",
       "      <td>4466</td>\n",
       "    </tr>\n",
       "    <tr>\n",
       "      <th>3</th>\n",
       "      <td>250000000</td>\n",
       "      <td>[{\"id\": 28, \"name\": \"Action\"}, {\"id\": 80, \"nam...</td>\n",
       "      <td>http://www.thedarkknightrises.com/</td>\n",
       "      <td>49026</td>\n",
       "      <td>[{\"id\": 849, \"name\": \"dc comics\"}, {\"id\": 853,...</td>\n",
       "      <td>en</td>\n",
       "      <td>The Dark Knight Rises</td>\n",
       "      <td>Following the death of District Attorney Harve...</td>\n",
       "      <td>112.312950</td>\n",
       "      <td>[{\"name\": \"Legendary Pictures\", \"id\": 923}, {\"...</td>\n",
       "      <td>[{\"iso_3166_1\": \"US\", \"name\": \"United States o...</td>\n",
       "      <td>2012-07-16</td>\n",
       "      <td>1084939099</td>\n",
       "      <td>165.0</td>\n",
       "      <td>[{\"iso_639_1\": \"en\", \"name\": \"English\"}]</td>\n",
       "      <td>Released</td>\n",
       "      <td>The Legend Ends</td>\n",
       "      <td>The Dark Knight Rises</td>\n",
       "      <td>7.6</td>\n",
       "      <td>9106</td>\n",
       "    </tr>\n",
       "    <tr>\n",
       "      <th>4</th>\n",
       "      <td>260000000</td>\n",
       "      <td>[{\"id\": 28, \"name\": \"Action\"}, {\"id\": 12, \"nam...</td>\n",
       "      <td>http://movies.disney.com/john-carter</td>\n",
       "      <td>49529</td>\n",
       "      <td>[{\"id\": 818, \"name\": \"based on novel\"}, {\"id\":...</td>\n",
       "      <td>en</td>\n",
       "      <td>John Carter</td>\n",
       "      <td>John Carter is a war-weary, former military ca...</td>\n",
       "      <td>43.926995</td>\n",
       "      <td>[{\"name\": \"Walt Disney Pictures\", \"id\": 2}]</td>\n",
       "      <td>[{\"iso_3166_1\": \"US\", \"name\": \"United States o...</td>\n",
       "      <td>2012-03-07</td>\n",
       "      <td>284139100</td>\n",
       "      <td>132.0</td>\n",
       "      <td>[{\"iso_639_1\": \"en\", \"name\": \"English\"}]</td>\n",
       "      <td>Released</td>\n",
       "      <td>Lost in our world, found in another.</td>\n",
       "      <td>John Carter</td>\n",
       "      <td>6.1</td>\n",
       "      <td>2124</td>\n",
       "    </tr>\n",
       "  </tbody>\n",
       "</table>\n",
       "</div>"
      ],
      "text/plain": [
       "      budget                                             genres  \\\n",
       "0  237000000  [{\"id\": 28, \"name\": \"Action\"}, {\"id\": 12, \"nam...   \n",
       "1  300000000  [{\"id\": 12, \"name\": \"Adventure\"}, {\"id\": 14, \"...   \n",
       "2  245000000  [{\"id\": 28, \"name\": \"Action\"}, {\"id\": 12, \"nam...   \n",
       "3  250000000  [{\"id\": 28, \"name\": \"Action\"}, {\"id\": 80, \"nam...   \n",
       "4  260000000  [{\"id\": 28, \"name\": \"Action\"}, {\"id\": 12, \"nam...   \n",
       "\n",
       "                                       homepage      id  \\\n",
       "0                   http://www.avatarmovie.com/   19995   \n",
       "1  http://disney.go.com/disneypictures/pirates/     285   \n",
       "2   http://www.sonypictures.com/movies/spectre/  206647   \n",
       "3            http://www.thedarkknightrises.com/   49026   \n",
       "4          http://movies.disney.com/john-carter   49529   \n",
       "\n",
       "                                            keywords original_language  \\\n",
       "0  [{\"id\": 1463, \"name\": \"culture clash\"}, {\"id\":...                en   \n",
       "1  [{\"id\": 270, \"name\": \"ocean\"}, {\"id\": 726, \"na...                en   \n",
       "2  [{\"id\": 470, \"name\": \"spy\"}, {\"id\": 818, \"name...                en   \n",
       "3  [{\"id\": 849, \"name\": \"dc comics\"}, {\"id\": 853,...                en   \n",
       "4  [{\"id\": 818, \"name\": \"based on novel\"}, {\"id\":...                en   \n",
       "\n",
       "                             original_title  \\\n",
       "0                                    Avatar   \n",
       "1  Pirates of the Caribbean: At World's End   \n",
       "2                                   Spectre   \n",
       "3                     The Dark Knight Rises   \n",
       "4                               John Carter   \n",
       "\n",
       "                                            overview  popularity  \\\n",
       "0  In the 22nd century, a paraplegic Marine is di...  150.437577   \n",
       "1  Captain Barbossa, long believed to be dead, ha...  139.082615   \n",
       "2  A cryptic message from Bond’s past sends him o...  107.376788   \n",
       "3  Following the death of District Attorney Harve...  112.312950   \n",
       "4  John Carter is a war-weary, former military ca...   43.926995   \n",
       "\n",
       "                                production_companies  \\\n",
       "0  [{\"name\": \"Ingenious Film Partners\", \"id\": 289...   \n",
       "1  [{\"name\": \"Walt Disney Pictures\", \"id\": 2}, {\"...   \n",
       "2  [{\"name\": \"Columbia Pictures\", \"id\": 5}, {\"nam...   \n",
       "3  [{\"name\": \"Legendary Pictures\", \"id\": 923}, {\"...   \n",
       "4        [{\"name\": \"Walt Disney Pictures\", \"id\": 2}]   \n",
       "\n",
       "                                production_countries release_date     revenue  \\\n",
       "0  [{\"iso_3166_1\": \"US\", \"name\": \"United States o...   2009-12-10  2787965087   \n",
       "1  [{\"iso_3166_1\": \"US\", \"name\": \"United States o...   2007-05-19   961000000   \n",
       "2  [{\"iso_3166_1\": \"GB\", \"name\": \"United Kingdom\"...   2015-10-26   880674609   \n",
       "3  [{\"iso_3166_1\": \"US\", \"name\": \"United States o...   2012-07-16  1084939099   \n",
       "4  [{\"iso_3166_1\": \"US\", \"name\": \"United States o...   2012-03-07   284139100   \n",
       "\n",
       "   runtime                                   spoken_languages    status  \\\n",
       "0    162.0  [{\"iso_639_1\": \"en\", \"name\": \"English\"}, {\"iso...  Released   \n",
       "1    169.0           [{\"iso_639_1\": \"en\", \"name\": \"English\"}]  Released   \n",
       "2    148.0  [{\"iso_639_1\": \"fr\", \"name\": \"Fran\\u00e7ais\"},...  Released   \n",
       "3    165.0           [{\"iso_639_1\": \"en\", \"name\": \"English\"}]  Released   \n",
       "4    132.0           [{\"iso_639_1\": \"en\", \"name\": \"English\"}]  Released   \n",
       "\n",
       "                                          tagline  \\\n",
       "0                     Enter the World of Pandora.   \n",
       "1  At the end of the world, the adventure begins.   \n",
       "2                           A Plan No One Escapes   \n",
       "3                                 The Legend Ends   \n",
       "4            Lost in our world, found in another.   \n",
       "\n",
       "                                      title  vote_average  vote_count  \n",
       "0                                    Avatar           7.2       11800  \n",
       "1  Pirates of the Caribbean: At World's End           6.9        4500  \n",
       "2                                   Spectre           6.3        4466  \n",
       "3                     The Dark Knight Rises           7.6        9106  \n",
       "4                               John Carter           6.1        2124  "
      ]
     },
     "execution_count": 149,
     "metadata": {},
     "output_type": "execute_result"
    }
   ],
   "source": [
    "# Store the TMDb data in a dataframe\n",
    "movie_data = pd.read_csv('tmdb_5000_movies.csv')\n",
    "movie_data.head()"
   ]
  },
  {
   "cell_type": "code",
   "execution_count": 150,
   "metadata": {},
   "outputs": [
    {
     "data": {
      "text/html": [
       "<div>\n",
       "<style scoped>\n",
       "    .dataframe tbody tr th:only-of-type {\n",
       "        vertical-align: middle;\n",
       "    }\n",
       "\n",
       "    .dataframe tbody tr th {\n",
       "        vertical-align: top;\n",
       "    }\n",
       "\n",
       "    .dataframe thead th {\n",
       "        text-align: right;\n",
       "    }\n",
       "</style>\n",
       "<table border=\"1\" class=\"dataframe\">\n",
       "  <thead>\n",
       "    <tr style=\"text-align: right;\">\n",
       "      <th></th>\n",
       "      <th>Year</th>\n",
       "      <th>AnnualStats</th>\n",
       "      <th>TotalMovies</th>\n",
       "      <th>AverageProductionBudget</th>\n",
       "      <th>CombinedWorldwideBox Office</th>\n",
       "      <th>No. 1 Movie</th>\n",
       "    </tr>\n",
       "  </thead>\n",
       "  <tbody>\n",
       "    <tr>\n",
       "      <th>0</th>\n",
       "      <td>TBD</td>\n",
       "      <td>NaN</td>\n",
       "      <td>2108</td>\n",
       "      <td>NaN</td>\n",
       "      <td>NaN</td>\n",
       "      <td>NaN</td>\n",
       "    </tr>\n",
       "    <tr>\n",
       "      <th>1</th>\n",
       "      <td>2029</td>\n",
       "      <td>NaN</td>\n",
       "      <td>1</td>\n",
       "      <td>NaN</td>\n",
       "      <td>NaN</td>\n",
       "      <td>NaN</td>\n",
       "    </tr>\n",
       "    <tr>\n",
       "      <th>2</th>\n",
       "      <td>2028</td>\n",
       "      <td>NaN</td>\n",
       "      <td>1</td>\n",
       "      <td>NaN</td>\n",
       "      <td>NaN</td>\n",
       "      <td>NaN</td>\n",
       "    </tr>\n",
       "    <tr>\n",
       "      <th>3</th>\n",
       "      <td>2027</td>\n",
       "      <td>NaN</td>\n",
       "      <td>1</td>\n",
       "      <td>NaN</td>\n",
       "      <td>NaN</td>\n",
       "      <td>NaN</td>\n",
       "    </tr>\n",
       "    <tr>\n",
       "      <th>4</th>\n",
       "      <td>2026</td>\n",
       "      <td>NaN</td>\n",
       "      <td>1</td>\n",
       "      <td>NaN</td>\n",
       "      <td>NaN</td>\n",
       "      <td>NaN</td>\n",
       "    </tr>\n",
       "  </tbody>\n",
       "</table>\n",
       "</div>"
      ],
      "text/plain": [
       "   Year AnnualStats  TotalMovies AverageProductionBudget  \\\n",
       "0   TBD         NaN         2108                     NaN   \n",
       "1  2029         NaN            1                     NaN   \n",
       "2  2028         NaN            1                     NaN   \n",
       "3  2027         NaN            1                     NaN   \n",
       "4  2026         NaN            1                     NaN   \n",
       "\n",
       "  CombinedWorldwideBox Office No. 1 Movie  \n",
       "0                         NaN         NaN  \n",
       "1                         NaN         NaN  \n",
       "2                         NaN         NaN  \n",
       "3                         NaN         NaN  \n",
       "4                         NaN         NaN  "
      ]
     },
     "execution_count": 150,
     "metadata": {},
     "output_type": "execute_result"
    }
   ],
   "source": [
    "#Scrape the-numbers.com\n",
    "get_request = requests.get('https://www.the-numbers.com/movies/#tab=year') #Gets the website\n",
    "parser = BeautifulSoup(get_request.content, \"html.parser\") #Parses the html of the site\n",
    "html_table = str(parser.find(\"table\")) #Finds the table that we're looking for (the top grossing movie per year)\n",
    "dfs = pd.read_html(html_table) #Puts the table into a list of pandas dataframes\n",
    "top_movies = dfs[0] #There's only one dataframe in that list, we want that\n",
    "top_movies.head()"
   ]
  },
  {
   "cell_type": "markdown",
   "metadata": {},
   "source": [
    "### Tidying Data ###\n",
    "Tidying data is the next step, and is important in making organised, readable datasets. \n",
    "\n",
    "This data in movie_data is quite out of order and has many columns that we will not need. To make it tidy, let's get rid of the unnecessary columns: homepage, keywords, original_language, production_companies, taglines, runtime, spoken_langauges, and vote_count. These columns will not be relevant to this tutorial. \n",
    "\n",
    "The columns are not in a very neat order, either. First, let's change the order of the columns to: title, release_date, genre, popularity, vote_average, budget, and revenue. Then, since we're looking at trends by year, let's organise these movies by year released. "
   ]
  },
  {
   "cell_type": "code",
   "execution_count": 151,
   "metadata": {},
   "outputs": [
    {
     "data": {
      "text/html": [
       "<div>\n",
       "<style scoped>\n",
       "    .dataframe tbody tr th:only-of-type {\n",
       "        vertical-align: middle;\n",
       "    }\n",
       "\n",
       "    .dataframe tbody tr th {\n",
       "        vertical-align: top;\n",
       "    }\n",
       "\n",
       "    .dataframe thead th {\n",
       "        text-align: right;\n",
       "    }\n",
       "</style>\n",
       "<table border=\"1\" class=\"dataframe\">\n",
       "  <thead>\n",
       "    <tr style=\"text-align: right;\">\n",
       "      <th></th>\n",
       "      <th>title</th>\n",
       "      <th>release_date</th>\n",
       "      <th>genres</th>\n",
       "      <th>popularity</th>\n",
       "      <th>vote_average</th>\n",
       "      <th>budget</th>\n",
       "      <th>revenue</th>\n",
       "    </tr>\n",
       "  </thead>\n",
       "  <tbody>\n",
       "    <tr>\n",
       "      <th>4592</th>\n",
       "      <td>Intolerance</td>\n",
       "      <td>1916-09-04</td>\n",
       "      <td>[{\"id\": 18, \"name\": \"Drama\"}]</td>\n",
       "      <td>3.232447</td>\n",
       "      <td>7.4</td>\n",
       "      <td>385907</td>\n",
       "      <td>8394751</td>\n",
       "    </tr>\n",
       "    <tr>\n",
       "      <th>4661</th>\n",
       "      <td>The Big Parade</td>\n",
       "      <td>1925-11-05</td>\n",
       "      <td>[{\"id\": 18, \"name\": \"Drama\"}, {\"id\": 10749, \"n...</td>\n",
       "      <td>0.785744</td>\n",
       "      <td>7.0</td>\n",
       "      <td>245000</td>\n",
       "      <td>22000000</td>\n",
       "    </tr>\n",
       "    <tr>\n",
       "      <th>2638</th>\n",
       "      <td>Metropolis</td>\n",
       "      <td>1927-01-10</td>\n",
       "      <td>[{\"id\": 18, \"name\": \"Drama\"}, {\"id\": 878, \"nam...</td>\n",
       "      <td>32.351527</td>\n",
       "      <td>8.0</td>\n",
       "      <td>92620000</td>\n",
       "      <td>650422</td>\n",
       "    </tr>\n",
       "    <tr>\n",
       "      <th>4457</th>\n",
       "      <td>Pandora's Box</td>\n",
       "      <td>1929-01-30</td>\n",
       "      <td>[{\"id\": 18, \"name\": \"Drama\"}, {\"id\": 53, \"name...</td>\n",
       "      <td>1.824184</td>\n",
       "      <td>7.6</td>\n",
       "      <td>0</td>\n",
       "      <td>0</td>\n",
       "    </tr>\n",
       "    <tr>\n",
       "      <th>4594</th>\n",
       "      <td>The Broadway Melody</td>\n",
       "      <td>1929-02-08</td>\n",
       "      <td>[{\"id\": 18, \"name\": \"Drama\"}, {\"id\": 10402, \"n...</td>\n",
       "      <td>0.968865</td>\n",
       "      <td>5.0</td>\n",
       "      <td>379000</td>\n",
       "      <td>4358000</td>\n",
       "    </tr>\n",
       "  </tbody>\n",
       "</table>\n",
       "</div>"
      ],
      "text/plain": [
       "                    title release_date  \\\n",
       "4592          Intolerance   1916-09-04   \n",
       "4661       The Big Parade   1925-11-05   \n",
       "2638           Metropolis   1927-01-10   \n",
       "4457        Pandora's Box   1929-01-30   \n",
       "4594  The Broadway Melody   1929-02-08   \n",
       "\n",
       "                                                 genres  popularity  \\\n",
       "4592                      [{\"id\": 18, \"name\": \"Drama\"}]    3.232447   \n",
       "4661  [{\"id\": 18, \"name\": \"Drama\"}, {\"id\": 10749, \"n...    0.785744   \n",
       "2638  [{\"id\": 18, \"name\": \"Drama\"}, {\"id\": 878, \"nam...   32.351527   \n",
       "4457  [{\"id\": 18, \"name\": \"Drama\"}, {\"id\": 53, \"name...    1.824184   \n",
       "4594  [{\"id\": 18, \"name\": \"Drama\"}, {\"id\": 10402, \"n...    0.968865   \n",
       "\n",
       "      vote_average    budget   revenue  \n",
       "4592           7.4    385907   8394751  \n",
       "4661           7.0    245000  22000000  \n",
       "2638           8.0  92620000    650422  \n",
       "4457           7.6         0         0  \n",
       "4594           5.0    379000   4358000  "
      ]
     },
     "execution_count": 151,
     "metadata": {},
     "output_type": "execute_result"
    }
   ],
   "source": [
    "movie_data = movie_data.drop([\"homepage\", \"keywords\", \"original_language\", \"original_title\", \"overview\", \"production_companies\", \"production_countries\", \"runtime\", \"spoken_languages\", \"vote_count\", \"tagline\"], axis=1)\n",
    "movie_data = movie_data[[\"title\", \"release_date\", \"genres\", \"popularity\", \"vote_average\", \"budget\", \"revenue\"]]\n",
    "movie_data = movie_data.sort_values(by=[\"release_date\"])\n",
    "movie_data.head()"
   ]
  },
  {
   "cell_type": "markdown",
   "metadata": {},
   "source": [
    "Great! We've gotten rid of the unnecessary columns, rearranged the columns, and sorted the movies chronologically. There's still more to be done, though. We need our two lists to overlap, and they mostly do, but some older movies are not in the 5000 movies list. Additionally, there is not much data on movies made before the 50s. Let's delete all movies made before 1950 and start with the 50s. We will have 6 neat decades!"
   ]
  },
  {
   "cell_type": "code",
   "execution_count": 152,
   "metadata": {},
   "outputs": [
    {
     "data": {
      "text/html": [
       "<div>\n",
       "<style scoped>\n",
       "    .dataframe tbody tr th:only-of-type {\n",
       "        vertical-align: middle;\n",
       "    }\n",
       "\n",
       "    .dataframe tbody tr th {\n",
       "        vertical-align: top;\n",
       "    }\n",
       "\n",
       "    .dataframe thead th {\n",
       "        text-align: right;\n",
       "    }\n",
       "</style>\n",
       "<table border=\"1\" class=\"dataframe\">\n",
       "  <thead>\n",
       "    <tr style=\"text-align: right;\">\n",
       "      <th></th>\n",
       "      <th>title</th>\n",
       "      <th>release_date</th>\n",
       "      <th>genres</th>\n",
       "      <th>popularity</th>\n",
       "      <th>vote_average</th>\n",
       "      <th>budget</th>\n",
       "      <th>revenue</th>\n",
       "    </tr>\n",
       "  </thead>\n",
       "  <tbody>\n",
       "    <tr>\n",
       "      <th>3816</th>\n",
       "      <td>Annie Get Your Gun</td>\n",
       "      <td>1950-05-17</td>\n",
       "      <td>[{\"id\": 28, \"name\": \"Action\"}, {\"id\": 35, \"nam...</td>\n",
       "      <td>1.726175</td>\n",
       "      <td>7.3</td>\n",
       "      <td>3768785</td>\n",
       "      <td>8000000</td>\n",
       "    </tr>\n",
       "    <tr>\n",
       "      <th>4046</th>\n",
       "      <td>Show Boat</td>\n",
       "      <td>1951-07-13</td>\n",
       "      <td>[{\"id\": 10402, \"name\": \"Music\"}, {\"id\": 10749,...</td>\n",
       "      <td>1.606314</td>\n",
       "      <td>6.9</td>\n",
       "      <td>2300000</td>\n",
       "      <td>11000000</td>\n",
       "    </tr>\n",
       "    <tr>\n",
       "      <th>4172</th>\n",
       "      <td>A Streetcar Named Desire</td>\n",
       "      <td>1951-09-18</td>\n",
       "      <td>[{\"id\": 18, \"name\": \"Drama\"}]</td>\n",
       "      <td>14.884756</td>\n",
       "      <td>7.6</td>\n",
       "      <td>1800000</td>\n",
       "      <td>8000000</td>\n",
       "    </tr>\n",
       "    <tr>\n",
       "      <th>3229</th>\n",
       "      <td>Quo Vadis</td>\n",
       "      <td>1951-11-08</td>\n",
       "      <td>[{\"id\": 18, \"name\": \"Drama\"}, {\"id\": 36, \"name...</td>\n",
       "      <td>7.973109</td>\n",
       "      <td>7.0</td>\n",
       "      <td>8250000</td>\n",
       "      <td>30000000</td>\n",
       "    </tr>\n",
       "    <tr>\n",
       "      <th>3740</th>\n",
       "      <td>The Greatest Show on Earth</td>\n",
       "      <td>1952-01-10</td>\n",
       "      <td>[{\"id\": 28, \"name\": \"Action\"}, {\"id\": 18, \"nam...</td>\n",
       "      <td>8.988455</td>\n",
       "      <td>6.6</td>\n",
       "      <td>4000000</td>\n",
       "      <td>36000000</td>\n",
       "    </tr>\n",
       "  </tbody>\n",
       "</table>\n",
       "</div>"
      ],
      "text/plain": [
       "                           title release_date  \\\n",
       "3816          Annie Get Your Gun   1950-05-17   \n",
       "4046                   Show Boat   1951-07-13   \n",
       "4172    A Streetcar Named Desire   1951-09-18   \n",
       "3229                   Quo Vadis   1951-11-08   \n",
       "3740  The Greatest Show on Earth   1952-01-10   \n",
       "\n",
       "                                                 genres  popularity  \\\n",
       "3816  [{\"id\": 28, \"name\": \"Action\"}, {\"id\": 35, \"nam...    1.726175   \n",
       "4046  [{\"id\": 10402, \"name\": \"Music\"}, {\"id\": 10749,...    1.606314   \n",
       "4172                      [{\"id\": 18, \"name\": \"Drama\"}]   14.884756   \n",
       "3229  [{\"id\": 18, \"name\": \"Drama\"}, {\"id\": 36, \"name...    7.973109   \n",
       "3740  [{\"id\": 28, \"name\": \"Action\"}, {\"id\": 18, \"nam...    8.988455   \n",
       "\n",
       "      vote_average   budget   revenue  \n",
       "3816           7.3  3768785   8000000  \n",
       "4046           6.9  2300000  11000000  \n",
       "4172           7.6  1800000   8000000  \n",
       "3229           7.0  8250000  30000000  \n",
       "3740           6.6  4000000  36000000  "
      ]
     },
     "execution_count": 152,
     "metadata": {},
     "output_type": "execute_result"
    }
   ],
   "source": [
    "drop_these = []  #The list that will contain the indices we want to drop from the dataframe\n",
    "for index, row in movie_data.iterrows():\n",
    "    tup = str(row[\"release_date\"]).split(\"-\") #Turn the year into a tuple, using the \"-\" as a delimiter\n",
    "    year = tup[0] #Get the year from the tuple\n",
    "    if year != 'nan':\n",
    "        if int(year) < 1950:\n",
    "            drop_these.append(index) #If the year is before 1950, add the index to the drop list\n",
    "movie_data = movie_data.drop(drop_these) #Drop the indices\n",
    "movie_data.head()"
   ]
  },
  {
   "cell_type": "markdown",
   "metadata": {},
   "source": [
    "There's one more issue with the movie_data dataframe. Look at the genres column! It is quite a mess. We don't need to know TMDb's genre IDs. All we need is the genre itself. Let's make that column look nice and make it easier to get a film's genre by only listing the genres. We will make each entry a list of genres, which will be of length 1 if a film has one genre, or longer if a film has more genres. If we split the \"genres\" entry in each row, using the double quotation mark as a delimiter, we will see that the first genre is at position 5 of our new tuple, and the second genre, if it exsits, is at position 11, and a third genre will be at position 17. "
   ]
  },
  {
   "cell_type": "code",
   "execution_count": 153,
   "metadata": {},
   "outputs": [
    {
     "data": {
      "text/html": [
       "<div>\n",
       "<style scoped>\n",
       "    .dataframe tbody tr th:only-of-type {\n",
       "        vertical-align: middle;\n",
       "    }\n",
       "\n",
       "    .dataframe tbody tr th {\n",
       "        vertical-align: top;\n",
       "    }\n",
       "\n",
       "    .dataframe thead th {\n",
       "        text-align: right;\n",
       "    }\n",
       "</style>\n",
       "<table border=\"1\" class=\"dataframe\">\n",
       "  <thead>\n",
       "    <tr style=\"text-align: right;\">\n",
       "      <th></th>\n",
       "      <th>title</th>\n",
       "      <th>release_date</th>\n",
       "      <th>genres</th>\n",
       "      <th>popularity</th>\n",
       "      <th>vote_average</th>\n",
       "      <th>budget</th>\n",
       "      <th>revenue</th>\n",
       "    </tr>\n",
       "  </thead>\n",
       "  <tbody>\n",
       "    <tr>\n",
       "      <th>3816</th>\n",
       "      <td>Annie Get Your Gun</td>\n",
       "      <td>1950-05-17</td>\n",
       "      <td>[Action, Comedy, Music]</td>\n",
       "      <td>1.726175</td>\n",
       "      <td>7.3</td>\n",
       "      <td>3768785</td>\n",
       "      <td>8000000</td>\n",
       "    </tr>\n",
       "    <tr>\n",
       "      <th>4046</th>\n",
       "      <td>Show Boat</td>\n",
       "      <td>1951-07-13</td>\n",
       "      <td>[Music, Romance]</td>\n",
       "      <td>1.606314</td>\n",
       "      <td>6.9</td>\n",
       "      <td>2300000</td>\n",
       "      <td>11000000</td>\n",
       "    </tr>\n",
       "    <tr>\n",
       "      <th>4172</th>\n",
       "      <td>A Streetcar Named Desire</td>\n",
       "      <td>1951-09-18</td>\n",
       "      <td>[Drama]</td>\n",
       "      <td>14.884756</td>\n",
       "      <td>7.6</td>\n",
       "      <td>1800000</td>\n",
       "      <td>8000000</td>\n",
       "    </tr>\n",
       "    <tr>\n",
       "      <th>3229</th>\n",
       "      <td>Quo Vadis</td>\n",
       "      <td>1951-11-08</td>\n",
       "      <td>[Drama, History, Romance]</td>\n",
       "      <td>7.973109</td>\n",
       "      <td>7.0</td>\n",
       "      <td>8250000</td>\n",
       "      <td>30000000</td>\n",
       "    </tr>\n",
       "    <tr>\n",
       "      <th>3740</th>\n",
       "      <td>The Greatest Show on Earth</td>\n",
       "      <td>1952-01-10</td>\n",
       "      <td>[Action, Drama, Romance]</td>\n",
       "      <td>8.988455</td>\n",
       "      <td>6.6</td>\n",
       "      <td>4000000</td>\n",
       "      <td>36000000</td>\n",
       "    </tr>\n",
       "  </tbody>\n",
       "</table>\n",
       "</div>"
      ],
      "text/plain": [
       "                           title release_date                     genres  \\\n",
       "3816          Annie Get Your Gun   1950-05-17    [Action, Comedy, Music]   \n",
       "4046                   Show Boat   1951-07-13           [Music, Romance]   \n",
       "4172    A Streetcar Named Desire   1951-09-18                    [Drama]   \n",
       "3229                   Quo Vadis   1951-11-08  [Drama, History, Romance]   \n",
       "3740  The Greatest Show on Earth   1952-01-10   [Action, Drama, Romance]   \n",
       "\n",
       "      popularity  vote_average   budget   revenue  \n",
       "3816    1.726175           7.3  3768785   8000000  \n",
       "4046    1.606314           6.9  2300000  11000000  \n",
       "4172   14.884756           7.6  1800000   8000000  \n",
       "3229    7.973109           7.0  8250000  30000000  \n",
       "3740    8.988455           6.6  4000000  36000000  "
      ]
     },
     "execution_count": 153,
     "metadata": {},
     "output_type": "execute_result"
    }
   ],
   "source": [
    "for index, row in movie_data.iterrows():\n",
    "    gen = row['genres']\n",
    "    tup = gen.split(\"\\\"\")\n",
    "    genre1 = None\n",
    "    genre2 = None\n",
    "    genre3 = None\n",
    "    if len(tup) > 4:\n",
    "        genre1 = tup[5]\n",
    "    if len(tup) > 10:\n",
    "        genre2 = tup[11]\n",
    "    if len(tup) > 16:\n",
    "        genre3 = tup[17]\n",
    "    genres = []\n",
    "    if genre1 != None:\n",
    "        genres.append(genre1)\n",
    "    if genre2 != None:\n",
    "        genres.append(genre2)\n",
    "    if genre3 != None:\n",
    "        genres.append(genre3)\n",
    "    if len(genres) > 0:\n",
    "        movie_data.at[index, 'genres'] = genres\n",
    "movie_data.head()"
   ]
  },
  {
   "cell_type": "markdown",
   "metadata": {},
   "source": [
    "This is much more readable!"
   ]
  },
  {
   "cell_type": "markdown",
   "metadata": {},
   "source": [
    "Now we just need to tidy the Top Movies list a bit. It has entries for years that have not happened yet, which will not be of any use to us in this tutorial. This tutorial is being made in 2020, but the TMDb movie dataframe only goes up to 2016. Let's delete all the rows after 2016, as well as the rows before 1950! For the sake of consistency, let's also sort it in chronological order."
   ]
  },
  {
   "cell_type": "code",
   "execution_count": 154,
   "metadata": {},
   "outputs": [
    {
     "data": {
      "text/html": [
       "<div>\n",
       "<style scoped>\n",
       "    .dataframe tbody tr th:only-of-type {\n",
       "        vertical-align: middle;\n",
       "    }\n",
       "\n",
       "    .dataframe tbody tr th {\n",
       "        vertical-align: top;\n",
       "    }\n",
       "\n",
       "    .dataframe thead th {\n",
       "        text-align: right;\n",
       "    }\n",
       "</style>\n",
       "<table border=\"1\" class=\"dataframe\">\n",
       "  <thead>\n",
       "    <tr style=\"text-align: right;\">\n",
       "      <th></th>\n",
       "      <th>Year</th>\n",
       "      <th>AnnualStats</th>\n",
       "      <th>TotalMovies</th>\n",
       "      <th>AverageProductionBudget</th>\n",
       "      <th>CombinedWorldwideBox Office</th>\n",
       "      <th>No. 1 Movie</th>\n",
       "    </tr>\n",
       "  </thead>\n",
       "  <tbody>\n",
       "    <tr>\n",
       "      <th>80</th>\n",
       "      <td>1950</td>\n",
       "      <td>NaN</td>\n",
       "      <td>38</td>\n",
       "      <td>$3,334,393</td>\n",
       "      <td>$320,384,209</td>\n",
       "      <td>Cinderella</td>\n",
       "    </tr>\n",
       "    <tr>\n",
       "      <th>79</th>\n",
       "      <td>1951</td>\n",
       "      <td>NaN</td>\n",
       "      <td>43</td>\n",
       "      <td>$2,958,333</td>\n",
       "      <td>$112,684,617</td>\n",
       "      <td>Quo Vadis?</td>\n",
       "    </tr>\n",
       "    <tr>\n",
       "      <th>78</th>\n",
       "      <td>1952</td>\n",
       "      <td>NaN</td>\n",
       "      <td>35</td>\n",
       "      <td>$2,423,333</td>\n",
       "      <td>$80,263,817</td>\n",
       "      <td>The Greatest Show on Earth</td>\n",
       "    </tr>\n",
       "    <tr>\n",
       "      <th>77</th>\n",
       "      <td>1953</td>\n",
       "      <td>NaN</td>\n",
       "      <td>47</td>\n",
       "      <td>$2,128,000</td>\n",
       "      <td>$232,992,801</td>\n",
       "      <td>Peter Pan</td>\n",
       "    </tr>\n",
       "    <tr>\n",
       "      <th>76</th>\n",
       "      <td>1954</td>\n",
       "      <td>NaN</td>\n",
       "      <td>60</td>\n",
       "      <td>$3,636,667</td>\n",
       "      <td>$235,414,856</td>\n",
       "      <td>White Christmas</td>\n",
       "    </tr>\n",
       "  </tbody>\n",
       "</table>\n",
       "</div>"
      ],
      "text/plain": [
       "    Year AnnualStats  TotalMovies AverageProductionBudget  \\\n",
       "80  1950         NaN           38              $3,334,393   \n",
       "79  1951         NaN           43              $2,958,333   \n",
       "78  1952         NaN           35              $2,423,333   \n",
       "77  1953         NaN           47              $2,128,000   \n",
       "76  1954         NaN           60              $3,636,667   \n",
       "\n",
       "   CombinedWorldwideBox Office                 No. 1 Movie  \n",
       "80                $320,384,209                  Cinderella  \n",
       "79                $112,684,617                  Quo Vadis?  \n",
       "78                 $80,263,817  The Greatest Show on Earth  \n",
       "77                $232,992,801                   Peter Pan  \n",
       "76                $235,414,856             White Christmas  "
      ]
     },
     "execution_count": 154,
     "metadata": {},
     "output_type": "execute_result"
    }
   ],
   "source": [
    "# Similar to the previous code block. Make array of indices that we want to drop, fill it, then call top_movies.drop()\n",
    "drop_these = []\n",
    "for index, row in top_movies.iterrows():\n",
    "    year = row['Year']\n",
    "    if year == 'TBD' or int(year) > 2016 or int(year) < 1950:\n",
    "        drop_these.append(index)\n",
    "top_movies = top_movies.drop(drop_these)\n",
    "top_movies = top_movies.sort_values(by=[\"Year\"])\n",
    "top_movies.head()"
   ]
  },
  {
   "cell_type": "markdown",
   "metadata": {},
   "source": [
    "One last thing for tidying: From the Top Movies list, all we really want is the year and the No. 1 Movie Column. We will not be using the others, as this data is salready contained in the Movie Data list. Let's get rid of the other columns!"
   ]
  },
  {
   "cell_type": "code",
   "execution_count": 155,
   "metadata": {},
   "outputs": [
    {
     "data": {
      "text/html": [
       "<div>\n",
       "<style scoped>\n",
       "    .dataframe tbody tr th:only-of-type {\n",
       "        vertical-align: middle;\n",
       "    }\n",
       "\n",
       "    .dataframe tbody tr th {\n",
       "        vertical-align: top;\n",
       "    }\n",
       "\n",
       "    .dataframe thead th {\n",
       "        text-align: right;\n",
       "    }\n",
       "</style>\n",
       "<table border=\"1\" class=\"dataframe\">\n",
       "  <thead>\n",
       "    <tr style=\"text-align: right;\">\n",
       "      <th></th>\n",
       "      <th>Year</th>\n",
       "      <th>No. 1 Movie</th>\n",
       "    </tr>\n",
       "  </thead>\n",
       "  <tbody>\n",
       "    <tr>\n",
       "      <th>80</th>\n",
       "      <td>1950</td>\n",
       "      <td>Cinderella</td>\n",
       "    </tr>\n",
       "    <tr>\n",
       "      <th>79</th>\n",
       "      <td>1951</td>\n",
       "      <td>Quo Vadis?</td>\n",
       "    </tr>\n",
       "    <tr>\n",
       "      <th>78</th>\n",
       "      <td>1952</td>\n",
       "      <td>The Greatest Show on Earth</td>\n",
       "    </tr>\n",
       "    <tr>\n",
       "      <th>77</th>\n",
       "      <td>1953</td>\n",
       "      <td>Peter Pan</td>\n",
       "    </tr>\n",
       "    <tr>\n",
       "      <th>76</th>\n",
       "      <td>1954</td>\n",
       "      <td>White Christmas</td>\n",
       "    </tr>\n",
       "  </tbody>\n",
       "</table>\n",
       "</div>"
      ],
      "text/plain": [
       "    Year                 No. 1 Movie\n",
       "80  1950                  Cinderella\n",
       "79  1951                  Quo Vadis?\n",
       "78  1952  The Greatest Show on Earth\n",
       "77  1953                   Peter Pan\n",
       "76  1954             White Christmas"
      ]
     },
     "execution_count": 155,
     "metadata": {},
     "output_type": "execute_result"
    }
   ],
   "source": [
    "top_movies= top_movies.drop([\"AnnualStats\", \"TotalMovies\", \"AverageProductionBudget\", \"CombinedWorldwideBox Office\"],\n",
    "                            axis=1)\n",
    "top_movies.head()"
   ]
  },
  {
   "cell_type": "markdown",
   "metadata": {},
   "source": [
    "Perfect! We have finished tidying the data. We now have two dataframes: One is movie_data, which lists most major films from 1950 to 2020, their ratings, revenues, and budgets. The other dataframe is top_movies, which simply lists the highest grossing movie for each year. Now we can move on to the next step!"
   ]
  },
  {
   "cell_type": "markdown",
   "metadata": {},
   "source": [
    "### Exploratory Data Analysis ###"
   ]
  },
  {
   "cell_type": "markdown",
   "metadata": {},
   "source": [
    "Exploratory Data Analysis, or EDA, is the process of analyzing datasets to find out their trends and characteristics, often visually. It allows us to see how different variables are related. In our case, we want to see things like how many movies of a certain genre were made in a particular year or decade, how popular the films of each genre were, the revenue of movies of a certain genre per decade, etc. \n",
    "\n",
    "Let's begin by making a dictionary of dictionaries, genres_per_year, which maps the year to how many movies from the 5000 list of each genre were made that year. We will use this to make a graph afterwards."
   ]
  },
  {
   "cell_type": "code",
   "execution_count": 156,
   "metadata": {},
   "outputs": [],
   "source": [
    "genres_per_year = {} # This will be a dictionary of dictionaries, mapping a year to a dict that shows the number of films in each genre\n",
    "for index, row in movie_data.iterrows():\n",
    "    tup = str(row[\"release_date\"]).split(\"-\") # Turn the year into a tuple, using the \"-\" as a delimiter\n",
    "    year = tup[0] # Get the year from the tuple\n",
    "    genre_count = {} # Dictionary mapping the number of films made under each genre\n",
    "    if year not in genres_per_year:\n",
    "        genres_per_year[year] = {}\n",
    "    for gen in row['genres']:\n",
    "        if gen not in genres_per_year[year]:\n",
    "            genres_per_year[year][gen] = 1\n",
    "        else:\n",
    "            genres_per_year[year][gen] += 1"
   ]
  },
  {
   "cell_type": "markdown",
   "metadata": {},
   "source": [
    "We have filled the genres_per_year dictionary. Let's also make a set that lists all of the genres. This will simplify making our graphs."
   ]
  },
  {
   "cell_type": "code",
   "execution_count": 157,
   "metadata": {},
   "outputs": [
    {
     "name": "stdout",
     "output_type": "stream",
     "text": [
      "{'War', 'Mystery', 'Thriller', 'Music', 'Comedy', 'History', 'Western', 'Action', 'Family', 'Romance', 'Adventure', 'Fantasy', 'Crime', 'Drama', 'Science Fiction', 'Documentary', 'Horror', 'Animation'}\n"
     ]
    }
   ],
   "source": [
    "genre_set = set()\n",
    "for year in genres_per_year:\n",
    "    for gen in genres_per_year[year]:\n",
    "        genre_set.add(gen)\n",
    "genre_set.remove(\"]\")\n",
    "genre_set.remove(\"[\")\n",
    "genre_set.remove(\"TV Movie\") # This and \"Foreign\" won't tell us anything\n",
    "genre_set.remove(\"Foreign\")\n",
    "print(genre_set)"
   ]
  },
  {
   "cell_type": "markdown",
   "metadata": {},
   "source": [
    "Now let's make some bar graphs! We'll make a graph for each genre, showing how many films of that genre were made each year. "
   ]
  },
  {
   "cell_type": "code",
   "execution_count": 158,
   "metadata": {},
   "outputs": [
    {
     "data": {
      "image/png": "[encoded data removed]",
      "text/plain": [
       "<Figure size 720x720 with 1 Axes>"
      ]
     },
     "metadata": {
      "needs_background": "light"
     },
     "output_type": "display_data"
    },
    {
     "data": {
      "image/png": "[encoded data removed]",
      "text/plain": [
       "<Figure size 720x720 with 1 Axes>"
      ]
     },
     "metadata": {
      "needs_background": "light"
     },
     "output_type": "display_data"
    },
    {
     "data": {
      "image/png": "[encoded data removed]",
      "text/plain": [
       "<Figure size 720x720 with 1 Axes>"
      ]
     },
     "metadata": {
      "needs_background": "light"
     },
     "output_type": "display_data"
    },
    {
     "data": {
      "image/png": "[encoded data removed]",
      "text/plain": [
       "<Figure size 720x720 with 1 Axes>"
      ]
     },
     "metadata": {
      "needs_background": "light"
     },
     "output_type": "display_data"
    },
    {
     "data": {
      "image/png": "[encoded data removed]",
      "text/plain": [
       "<Figure size 720x720 with 1 Axes>"
      ]
     },
     "metadata": {
      "needs_background": "light"
     },
     "output_type": "display_data"
    },
    {
     "data": {
      "image/png": "[encoded data removed]",
      "text/plain": [
       "<Figure size 720x720 with 1 Axes>"
      ]
     },
     "metadata": {
      "needs_background": "light"
     },
     "output_type": "display_data"
    },
    {
     "data": {
      "image/png": "[encoded data removed]",
      "text/plain": [
       "<Figure size 720x720 with 1 Axes>"
      ]
     },
     "metadata": {
      "needs_background": "light"
     },
     "output_type": "display_data"
    },
    {
     "data": {
      "image/png": "[encoded data removed]",
      "text/plain": [
       "<Figure size 720x720 with 1 Axes>"
      ]
     },
     "metadata": {
      "needs_background": "light"
     },
     "output_type": "display_data"
    },
    {
     "data": {
      "image/png": "[encoded data removed]",
      "text/plain": [
       "<Figure size 720x720 with 1 Axes>"
      ]
     },
     "metadata": {
      "needs_background": "light"
     },
     "output_type": "display_data"
    },
    {
     "data": {
      "image/png": "[encoded data removed]",
      "text/plain": [
       "<Figure size 720x720 with 1 Axes>"
      ]
     },
     "metadata": {
      "needs_background": "light"
     },
     "output_type": "display_data"
    },
    {
     "data": {
      "image/png": "[encoded data removed]",
      "text/plain": [
       "<Figure size 720x720 with 1 Axes>"
      ]
     },
     "metadata": {
      "needs_background": "light"
     },
     "output_type": "display_data"
    },
    {
     "data": {
      "image/png": "[encoded data removed]",
      "text/plain": [
       "<Figure size 720x720 with 1 Axes>"
      ]
     },
     "metadata": {
      "needs_background": "light"
     },
     "output_type": "display_data"
    },
    {
     "data": {
      "image/png": "[encoded data removed]",
      "text/plain": [
       "<Figure size 720x720 with 1 Axes>"
      ]
     },
     "metadata": {
      "needs_background": "light"
     },
     "output_type": "display_data"
    },
    {
     "data": {
      "image/png": "[encoded data removed]",
      "text/plain": [
       "<Figure size 720x720 with 1 Axes>"
      ]
     },
     "metadata": {
      "needs_background": "light"
     },
     "output_type": "display_data"
    },
    {
     "data": {
      "image/png": "[encoded data removed]",
      "text/plain": [
       "<Figure size 720x720 with 1 Axes>"
      ]
     },
     "metadata": {
      "needs_background": "light"
     },
     "output_type": "display_data"
    },
    {
     "data": {
      "image/png": "[encoded data removed]",
      "text/plain": [
       "<Figure size 720x720 with 1 Axes>"
      ]
     },
     "metadata": {
      "needs_background": "light"
     },
     "output_type": "display_data"
    },
    {
     "data": {
      "image/png": "[encoded data removed]",
      "text/plain": [
       "<Figure size 720x720 with 1 Axes>"
      ]
     },
     "metadata": {
      "needs_background": "light"
     },
     "output_type": "display_data"
    },
    {
     "data": {
      "image/png": "[encoded data removed]",
      "text/plain": [
       "<Figure size 720x720 with 1 Axes>"
      ]
     },
     "metadata": {
      "needs_background": "light"
     },
     "output_type": "display_data"
    }
   ],
   "source": [
    "for gen in genre_set:\n",
    "    years = []\n",
    "    counts = []\n",
    "    for year, stats in genres_per_year.items():\n",
    "        for gen2, count in stats.items():\n",
    "            if gen == gen2:\n",
    "                counts.append(count)\n",
    "                years.append(year)\n",
    "    plt.figure(figsize=(10, 10))\n",
    "    plt.bar(years, counts)\n",
    "    plt.title(gen)\n",
    "    plt.xticks(rotation=90)\n",
    "    plt.show()"
   ]
  },
  {
   "cell_type": "code",
   "execution_count": null,
   "metadata": {},
   "outputs": [],
   "source": []
  }
 ],
 "metadata": {
  "kernelspec": {
   "display_name": "Python 3",
   "language": "python",
   "name": "python3"
  },
  "language_info": {
   "codemirror_mode": {
    "name": "ipython",
    "version": 3
   },
   "file_extension": ".py",
   "mimetype": "text/x-python",
   "name": "python",
   "nbconvert_exporter": "python",
   "pygments_lexer": "ipython3",
   "version": "3.8.5"
  }
 },
 "nbformat": 4,
 "nbformat_minor": 4
}
